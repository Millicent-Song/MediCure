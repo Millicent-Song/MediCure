{
 "cells": [
  {
   "cell_type": "code",
   "execution_count": 2,
   "id": "547a865e-ffa9-49fe-98cb-9bb95d0dd69f",
   "metadata": {},
   "outputs": [
    {
     "name": "stdout",
     "output_type": "stream",
     "text": [
      "MSE: 96.82258405456432\n",
      "R² Score: 0.7282166607920953\n"
     ]
    }
   ],
   "source": [
    "import pandas as pd\n",
    "from sklearn.preprocessing import MinMaxScaler\n",
    "from sklearn.model_selection import train_test_split\n",
    "from sklearn.metrics import mean_squared_error, r2_score\n",
    "from xgboost import XGBRegressor\n",
    "\n",
    "# Load Excel File\n",
    "df = pd.read_excel(\"BMSData.xlsm\", sheet_name=\"Sheet1\", engine=\"openpyxl\", header=0, skiprows=0, nrows=6109)\n",
    "\n",
    "#Drop first column\n",
    "df = df.iloc[:, 1:]\n",
    "\n",
    "\n",
    "# Separate features and target\n",
    "X = df.drop(columns=[\"tbsagrft\"]) \n",
    "y = df[\"tbsagrft\"]\n",
    "\n",
    "# Normalize features\n",
    "scaler = MinMaxScaler()\n",
    "X_scaled = scaler.fit_transform(X)\n",
    "\n",
    "\n",
    "# Train-test split\n",
    "X_train, X_test, y_train, y_test = train_test_split(\n",
    "    X_scaled, y, test_size=0.2, random_state=42)\n",
    "\n",
    "#Scaling\n",
    "scaler = MinMaxScaler()\n",
    "scaler.fit(X_train)\n",
    "\n",
    "# Transform both training and testing data\n",
    "X_train_normalized = scaler.transform(X_train)\n",
    "X_test_normalized = scaler.transform(X_test)\n",
    "\n",
    "\n",
    "# Train linear regression using XGBoost\n",
    "model = XGBRegressor(objective=\"reg:squarederror\", booster=\"gblinear\")\n",
    "model.fit(X_train_normalized, y_train)\n",
    "\n",
    "# Predict and evaluate\n",
    "y_pred = model.predict(X_test_normalized)\n",
    "print(\"MSE:\", mean_squared_error(y_test, y_pred))\n",
    "print(\"R² Score:\", r2_score(y_test, y_pred))\n"
   ]
  },
  {
   "cell_type": "code",
   "execution_count": 3,
   "id": "e1dbb397-e493-488f-8052-5864a0519d44",
   "metadata": {
    "scrolled": true
   },
   "outputs": [
    {
     "name": "stdout",
     "output_type": "stream",
     "text": [
      "MSE: 73.41019929160068\n",
      "R² Score: 0.7939357920447028\n"
     ]
    }
   ],
   "source": [
    "import pandas as pd\n",
    "from sklearn.preprocessing import MinMaxScaler\n",
    "from sklearn.model_selection import train_test_split\n",
    "from sklearn.metrics import mean_squared_error, r2_score\n",
    "from xgboost import XGBRegressor\n",
    "\n",
    "# Load Excel File\n",
    "df = pd.read_excel(\"BMSData.xlsm\", sheet_name=\"Sheet1\", engine=\"openpyxl\", header=0, skiprows=0, nrows=6109)\n",
    "\n",
    "#Drop first column\n",
    "df = df.iloc[:, 1:]\n",
    "\n",
    "\n",
    "# Separate features and target\n",
    "X = df.drop(columns=[\"tbsagrft\"]) \n",
    "y = df[\"tbsagrft\"]\n",
    "\n",
    "# Normalize features\n",
    "scaler = MinMaxScaler()\n",
    "X_scaled = scaler.fit_transform(X)\n",
    "\n",
    "\n",
    "# Train-test split\n",
    "X_train, X_test, y_train, y_test = train_test_split(\n",
    "    X_scaled, y, test_size=0.2, random_state=42)\n",
    "\n",
    "#Scaling\n",
    "scaler = MinMaxScaler()\n",
    "scaler.fit(X_train)\n",
    "\n",
    "# Transform both training and testing data\n",
    "X_train_normalized = scaler.transform(X_train)\n",
    "X_test_normalized = scaler.transform(X_test)\n",
    "\n",
    "# Train tree using XGBoost\n",
    "model = XGBRegressor(\n",
    "    objective=\"reg:squarederror\",\n",
    "    booster=\"gbtree\",         # <- this is the tree model\n",
    "    n_estimators=100,         # number of trees\n",
    "    learning_rate=0.1,        # shrinkage to prevent overfitting\n",
    "    max_depth=6,              # controls tree complexity\n",
    "    random_state=42\n",
    ")\n",
    "model.fit(X_train_normalized, y_train)\n",
    "\n",
    "# Predict and evaluate\n",
    "y_pred = model.predict(X_test_normalized)\n",
    "print(\"MSE:\", mean_squared_error(y_test, y_pred))\n",
    "print(\"R² Score:\", r2_score(y_test, y_pred))\n"
   ]
  },
  {
   "cell_type": "code",
   "execution_count": 1,
   "id": "7de610fb-9b49-4e60-88f7-7b8fb5702658",
   "metadata": {},
   "outputs": [],
   "source": [
    "! cd /Users/millicentsong/MediCure"
   ]
  },
  {
   "cell_type": "code",
   "execution_count": 2,
   "id": "7cfdadaa-ad63-4a2a-bf5f-d29a03890145",
   "metadata": {},
   "outputs": [
    {
     "ename": "SyntaxError",
     "evalue": "invalid syntax (3528599804.py, line 1)",
     "output_type": "error",
     "traceback": [
      "\u001b[0;36m  Cell \u001b[0;32mIn[2], line 1\u001b[0;36m\u001b[0m\n\u001b[0;31m    git status\u001b[0m\n\u001b[0m        ^\u001b[0m\n\u001b[0;31mSyntaxError\u001b[0m\u001b[0;31m:\u001b[0m invalid syntax\n"
     ]
    }
   ],
   "source": [
    "git status"
   ]
  },
  {
   "cell_type": "code",
   "execution_count": null,
   "id": "396cf689-53e3-4d96-98fe-e53d8acf3922",
   "metadata": {},
   "outputs": [],
   "source": []
  }
 ],
 "metadata": {
  "kernelspec": {
   "display_name": "Python (xgb-env)",
   "language": "python",
   "name": "xgb-env"
  },
  "language_info": {
   "codemirror_mode": {
    "name": "ipython",
    "version": 3
   },
   "file_extension": ".py",
   "mimetype": "text/x-python",
   "name": "python",
   "nbconvert_exporter": "python",
   "pygments_lexer": "ipython3",
   "version": "3.10.16"
  }
 },
 "nbformat": 4,
 "nbformat_minor": 5
}
