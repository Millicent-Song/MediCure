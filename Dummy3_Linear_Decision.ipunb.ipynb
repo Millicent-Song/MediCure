{
 "cells": [
  {
   "cell_type": "code",
   "id": "initial_id",
   "metadata": {
    "collapsed": true,
    "ExecuteTime": {
     "end_time": "2025-05-14T01:24:32.507600Z",
     "start_time": "2025-05-14T01:24:31.199051Z"
    }
   },
   "source": [
    "import pandas as pd\n",
    "from sklearn.preprocessing import MinMaxScaler\n",
    "from sklearn.model_selection import train_test_split\n",
    "from sklearn.metrics import mean_squared_error, r2_score\n",
    "from sklearn.linear_model import LinearRegression\n",
    "from sklearn.tree import DecisionTreeRegressor\n",
    "from xgboost import XGBRegressor\n",
    "\n",
    "# Load your Excel file (update sheet name if needed)\n",
    "df = pd.read_excel(\"Updated_BMS_Data11.xlsm\", sheet_name=\"Sheet1\", engine=\"openpyxl\", header=0, skiprows=0, nrows=6109)\n",
    "\n",
    "# Drop first column\n",
    "df = df.iloc[:, 1:]\n",
    "\n",
    "# Separate features and target\n",
    "X = df.drop(columns=[\"tbsagrft\"])\n",
    "y = df[\"tbsagrft\"]\n",
    "\n",
    "# Train-test split\n",
    "X_train, X_test, y_train, y_test = train_test_split(X, y, test_size=0.2, random_state=42)\n",
    "\n",
    "# Scaling\n",
    "scaler = MinMaxScaler()\n",
    "scaler.fit(X_train)\n",
    "\n",
    "# Transform both training and testing data\n",
    "X_train_normalized = scaler.transform(X_train)\n",
    "X_test_normalized = scaler.transform(X_test)\n",
    "\n",
    "# Train a Simple Linear Regression model\n",
    "model_lr = LinearRegression()\n",
    "model_lr.fit(X_train_normalized, y_train)\n",
    "\n",
    "# Predict and evaluate for Linear Regression\n",
    "y_pred_lr = model_lr.predict(X_test_normalized)\n",
    "print(\"Linear Regression MSE:\", mean_squared_error(y_test, y_pred_lr))\n",
    "print(\"Linear Regression R²:\", r2_score(y_test, y_pred_lr))\n",
    "\n",
    "# Train a Decision Tree model\n",
    "model_tree = DecisionTreeRegressor(random_state=42)\n",
    "model_tree.fit(X_train_normalized, y_train)\n",
    "\n",
    "# Predict and evaluate for Decision Tree\n",
    "y_pred_tree = model_tree.predict(X_test_normalized)\n",
    "print(\"\\nDecision Tree MSE:\", mean_squared_error(y_test, y_pred_tree))\n",
    "print(\"Decision Tree R²:\", r2_score(y_test, y_pred_tree))\n",
    "\n",
    "# Train XGBoost model (as comparison)\n",
    "model_xgb = XGBRegressor(\n",
    "    objective=\"reg:squarederror\",\n",
    "    booster=\"gbtree\",         # this is the tree model\n",
    "    n_estimators=100,         # number of trees\n",
    "    learning_rate=0.1,        # shrinkage to prevent overfitting\n",
    "    max_depth=6,              # controls tree complexity\n",
    "    random_state=42\n",
    ")\n",
    "model_xgb.fit(X_train_normalized, y_train)\n",
    "\n",
    "# Predict and evaluate for XGBoost\n",
    "y_pred_xgb = model_xgb.predict(X_test_normalized)\n",
    "print(\"\\nXGBoost Model MSE:\", mean_squared_error(y_test, y_pred_xgb))\n",
    "print(\"XGBoost Model R²:\", r2_score(y_test, y_pred_xgb))\n"
   ],
   "outputs": [
    {
     "name": "stdout",
     "output_type": "stream",
     "text": [
      "Linear Regression MSE: 96.62724955365415\n",
      "Linear Regression R²: 0.7287649694686119\n",
      "\n",
      "Decision Tree MSE: 145.26190079882429\n",
      "Decision Tree R²: 0.5922463251286182\n",
      "\n",
      "XGBoost Model MSE: 68.9565914588794\n",
      "XGBoost Model R²: 0.8064371771308242\n"
     ]
    }
   ],
   "execution_count": 1
  }
 ],
 "metadata": {
  "kernelspec": {
   "display_name": "Python 3",
   "language": "python",
   "name": "python3"
  },
  "language_info": {
   "codemirror_mode": {
    "name": "ipython",
    "version": 2
   },
   "file_extension": ".py",
   "mimetype": "text/x-python",
   "name": "python",
   "nbconvert_exporter": "python",
   "pygments_lexer": "ipython2",
   "version": "2.7.6"
  }
 },
 "nbformat": 4,
 "nbformat_minor": 5
}
