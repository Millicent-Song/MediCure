{
 "cells": [
  {
   "cell_type": "code",
   "id": "initial_id",
   "metadata": {
    "collapsed": true,
    "ExecuteTime": {
     "end_time": "2025-05-14T00:55:51.689674Z",
     "start_time": "2025-05-14T00:55:50.489261Z"
    }
   },
   "source": [
    "import pandas as pd\n",
    "from sklearn.preprocessing import MinMaxScaler\n",
    "from sklearn.model_selection import train_test_split\n",
    "from sklearn.metrics import mean_squared_error, r2_score\n",
    "from sklearn.dummy import DummyRegressor  # Import DummyRegressor\n",
    "from xgboost import XGBRegressor\n",
    "\n",
    "# Load your Excel file (update sheet name if needed)\n",
    "df = pd.read_excel(\"Updated_BMS_Data11.xlsm\", sheet_name=\"Sheet1\", engine=\"openpyxl\", header=0, skiprows=0, nrows=6109)\n",
    "\n",
    "# Drop first column\n",
    "df = df.iloc[:, 1:]\n",
    "\n",
    "# Separate features and target\n",
    "X = df.drop(columns=[\"tbsagrft\"])\n",
    "y = df[\"tbsagrft\"]\n",
    "\n",
    "# Train-test split\n",
    "X_train, X_test, y_train, y_test = train_test_split(X, y, test_size=0.2, random_state=42)\n",
    "\n",
    "# Scaling\n",
    "scaler = MinMaxScaler()\n",
    "scaler.fit(X_train)\n",
    "\n",
    "# Transform both training and testing data\n",
    "X_train_normalized = scaler.transform(X_train)\n",
    "X_test_normalized = scaler.transform(X_test)\n",
    "\n",
    "# Train XGBoost model\n",
    "model_xgb = XGBRegressor(\n",
    "    objective=\"reg:squarederror\",\n",
    "    booster=\"gbtree\",         # this is the tree model\n",
    "    n_estimators=100,         # number of trees\n",
    "    learning_rate=0.1,        # shrinkage to prevent overfitting\n",
    "    max_depth=6,              # controls tree complexity\n",
    "    random_state=42\n",
    ")\n",
    "model_xgb.fit(X_train_normalized, y_train)\n",
    "\n",
    "# Predict and evaluate for XGBoost\n",
    "y_pred_xgb = model_xgb.predict(X_test_normalized)\n",
    "print(\"XGBoost Model:\")\n",
    "print(\"MSE:\", mean_squared_error(y_test, y_pred_xgb))\n",
    "print(\"R² Score:\", r2_score(y_test, y_pred_xgb))\n",
    "\n",
    "# Create a Dummy Model\n",
    "dummy_model = DummyRegressor(strategy=\"mean\")  # Predicts the mean value\n",
    "dummy_model.fit(X_train_normalized, y_train)\n",
    "\n",
    "# Predict and evaluate for Dummy Model\n",
    "y_pred_dummy = dummy_model.predict(X_test_normalized)\n",
    "print(\"\\nDummy Model:\")\n",
    "print(\"MSE:\", mean_squared_error(y_test, y_pred_dummy))\n",
    "print(\"R² Score:\", r2_score(y_test, y_pred_dummy))\n"
   ],
   "outputs": [
    {
     "name": "stdout",
     "output_type": "stream",
     "text": [
      "XGBoost Model:\n",
      "MSE: 68.9565914588794\n",
      "R² Score: 0.8064371771308242\n",
      "\n",
      "Dummy Model:\n",
      "MSE: 356.24961715870364\n",
      "R² Score: -1.3063932040591197e-06\n"
     ]
    }
   ],
   "execution_count": 1
  }
 ],
 "metadata": {
  "kernelspec": {
   "display_name": "Python 3",
   "language": "python",
   "name": "python3"
  },
  "language_info": {
   "codemirror_mode": {
    "name": "ipython",
    "version": 2
   },
   "file_extension": ".py",
   "mimetype": "text/x-python",
   "name": "python",
   "nbconvert_exporter": "python",
   "pygments_lexer": "ipython2",
   "version": "2.7.6"
  }
 },
 "nbformat": 4,
 "nbformat_minor": 5
}
